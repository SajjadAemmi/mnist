{
  "nbformat": 4,
  "nbformat_minor": 0,
  "metadata": {
    "kernelspec": {
      "display_name": "Python 3",
      "language": "python",
      "name": "python3"
    },
    "language_info": {
      "codemirror_mode": {
        "name": "ipython",
        "version": 3
      },
      "file_extension": ".py",
      "mimetype": "text/x-python",
      "name": "python",
      "nbconvert_exporter": "python",
      "pygments_lexer": "ipython3",
      "version": "3.8.3"
    },
    "colab": {
      "name": "mnist_siamese.ipynb",
      "provenance": [],
      "collapsed_sections": []
    },
    "accelerator": "GPU"
  },
  "cells": [
    {
      "cell_type": "code",
      "metadata": {
        "id": "fY1KRHKvzVLf"
      },
      "source": [
        "import random\n",
        "import numpy as np\n",
        "import keras\n",
        "from keras.models import Sequential, Model\n",
        "from keras.layers import Flatten, Dense, Concatenate, Dot, Lambda, Input\n",
        "from keras.datasets import mnist\n",
        "from keras.optimizers import Adam\n",
        "import matplotlib.pyplot as plt"
      ],
      "execution_count": null,
      "outputs": []
    },
    {
      "cell_type": "code",
      "metadata": {
        "id": "YBK-MJZmzVLh",
        "colab": {
          "base_uri": "https://localhost:8080/"
        },
        "outputId": "42a18929-2d42-4f36-940e-c6fa96793f28"
      },
      "source": [
        "# load data\n",
        "\n",
        "(x_train, y_train), (x_test, y_test) = mnist.load_data()\n",
        "x_train = x_train.astype('float32')\n",
        "x_test = x_test.astype('float32')\n",
        "x_train /= 255\n",
        "x_test /= 255"
      ],
      "execution_count": null,
      "outputs": [
        {
          "output_type": "stream",
          "text": [
            "Downloading data from https://storage.googleapis.com/tensorflow/tf-keras-datasets/mnist.npz\n",
            "11493376/11490434 [==============================] - 0s 0us/step\n"
          ],
          "name": "stdout"
        }
      ]
    },
    {
      "cell_type": "code",
      "metadata": {
        "id": "5m9QvwrfzVLi"
      },
      "source": [
        "# make pairs\n",
        "def make_pairs(x, y):\n",
        "    num_classes = max(y) + 1\n",
        "    digit_indices = [np.where(y == i)[0] for i in range(num_classes)]\n",
        "\n",
        "    pairs = []\n",
        "    labels = []\n",
        "\n",
        "    for idx1 in range(len(x)):\n",
        "        # add a matching example\n",
        "        x1 = x[idx1]\n",
        "        label1 = y[idx1]\n",
        "        idx2 = random.choice(digit_indices[label1])\n",
        "        x2 = x[idx2]\n",
        "        \n",
        "        pairs += [[x1, x2]]\n",
        "        labels += [1]\n",
        "    \n",
        "        # add a not matching example\n",
        "        label2 = random.randint(0, num_classes-1)\n",
        "        while label2 == label1:\n",
        "            label2 = random.randint(0, num_classes-1)\n",
        "\n",
        "        idx2 = random.choice(digit_indices[label2])\n",
        "        x2 = x[idx2]\n",
        "        \n",
        "        pairs += [[x1, x2]]\n",
        "        labels += [0]\n",
        "\n",
        "    return np.array(pairs), np.array(labels)\n",
        "\n",
        "pairs_train, labels_train = make_pairs(x_train, y_train)\n",
        "pairs_test, labels_test = make_pairs(x_test, y_test)"
      ],
      "execution_count": null,
      "outputs": []
    },
    {
      "cell_type": "code",
      "metadata": {
        "id": "B4hkCuxGzVLj",
        "colab": {
          "base_uri": "https://localhost:8080/"
        },
        "outputId": "c175f9c7-8abd-4e2d-f6d3-a9000ae2b776"
      },
      "source": [
        "pairs_train.shape"
      ],
      "execution_count": null,
      "outputs": [
        {
          "output_type": "execute_result",
          "data": {
            "text/plain": [
              "(120000, 2, 28, 28)"
            ]
          },
          "metadata": {
            "tags": []
          },
          "execution_count": 5
        }
      ]
    },
    {
      "cell_type": "code",
      "metadata": {
        "id": "F7nOCZtKzVLk",
        "colab": {
          "base_uri": "https://localhost:8080/"
        },
        "outputId": "4e986d5c-0f4f-425d-a03c-48ddcb106ed8"
      },
      "source": [
        "labels_train.shape"
      ],
      "execution_count": null,
      "outputs": [
        {
          "output_type": "execute_result",
          "data": {
            "text/plain": [
              "(120000,)"
            ]
          },
          "metadata": {
            "tags": []
          },
          "execution_count": 6
        }
      ]
    },
    {
      "cell_type": "code",
      "metadata": {
        "id": "ojJbORwgzVLk",
        "colab": {
          "base_uri": "https://localhost:8080/"
        },
        "outputId": "8a2ff17f-ecdd-4f19-dea1-d4dc69e67759"
      },
      "source": [
        "labels_train"
      ],
      "execution_count": null,
      "outputs": [
        {
          "output_type": "execute_result",
          "data": {
            "text/plain": [
              "array([1, 0, 1, ..., 0, 1, 0])"
            ]
          },
          "metadata": {
            "tags": []
          },
          "execution_count": 7
        }
      ]
    },
    {
      "cell_type": "code",
      "metadata": {
        "id": "vb6YQnZwzVLl",
        "colab": {
          "base_uri": "https://localhost:8080/",
          "height": 282
        },
        "outputId": "d40077f8-3b61-4e94-f7fe-c92ecc4510e8"
      },
      "source": [
        "# take a peek at the data\n",
        "plt.imshow(pairs_train[400,0])\n",
        "print(labels_train[400])"
      ],
      "execution_count": null,
      "outputs": [
        {
          "output_type": "stream",
          "text": [
            "1\n"
          ],
          "name": "stdout"
        },
        {
          "output_type": "display_data",
          "data": {
            "image/png": "[encoded data removed]",
            "text/plain": [
              "<Figure size 432x288 with 1 Axes>"
            ]
          },
          "metadata": {
            "tags": [],
            "needs_background": "light"
          }
        }
      ]
    },
    {
      "cell_type": "code",
      "metadata": {
        "id": "7woF5_GbzVLo"
      },
      "source": [
        "from keras import backend as K\n",
        "\n",
        "def euclidean_distance(vects):\n",
        "    x, y = vects\n",
        "    sum_square = K.sum(K.square(x - y), axis=1, keepdims=True)\n",
        "    return K.sqrt(K.maximum(sum_square, K.epsilon()))\n",
        "\n",
        "\n",
        "input = Input((28,28))\n",
        "x = Flatten()(input)\n",
        "x = Dense(128, activation='relu')(x)\n",
        "dense = Model(input, x)\n",
        "\n",
        "input1 = Input((28,28))\n",
        "input2 = Input((28,28))\n",
        "\n",
        "dense1 = dense(input1)\n",
        "dense2 = dense(input2)\n",
        "\n",
        "merge_layer = Lambda(euclidean_distance)([dense1,dense2])\n",
        "dense_layer = Dense(1, activation=\"sigmoid\")(merge_layer)\n",
        "model = Model(inputs=[input1, input2], outputs=dense_layer)\n"
      ],
      "execution_count": null,
      "outputs": []
    },
    {
      "cell_type": "code",
      "metadata": {
        "id": "aVSbq1dVzVLo"
      },
      "source": [
        "model.compile(loss = \"binary_crossentropy\", optimizer=\"adam\", metrics=[\"accuracy\"])"
      ],
      "execution_count": null,
      "outputs": []
    },
    {
      "cell_type": "code",
      "metadata": {
        "id": "gLvqj0E20sc8"
      },
      "source": [
        "model.summary()"
      ],
      "execution_count": null,
      "outputs": []
    },
    {
      "cell_type": "code",
      "metadata": {
        "id": "NFgfAEXtzVLo",
        "colab": {
          "base_uri": "https://localhost:8080/"
        },
        "outputId": "66b1ff4e-2b5d-41f4-87ac-05744770f87d"
      },
      "source": [
        "model.fit([pairs_train[:,0], pairs_train[:,1]], labels_train[:], batch_size=16, epochs=10)"
      ],
      "execution_count": null,
      "outputs": [
        {
          "output_type": "stream",
          "text": [
            "Epoch 1/10\n",
            "7500/7500 [==============================] - 17s 2ms/step - loss: 0.4922 - accuracy: 0.7487\n",
            "Epoch 2/10\n",
            "7500/7500 [==============================] - 14s 2ms/step - loss: 0.3117 - accuracy: 0.8758\n",
            "Epoch 3/10\n",
            "7500/7500 [==============================] - 14s 2ms/step - loss: 0.2620 - accuracy: 0.8964\n",
            "Epoch 4/10\n",
            "7500/7500 [==============================] - 14s 2ms/step - loss: 0.2499 - accuracy: 0.8995\n",
            "Epoch 5/10\n",
            "7500/7500 [==============================] - 14s 2ms/step - loss: 0.2416 - accuracy: 0.9052\n",
            "Epoch 6/10\n",
            "7500/7500 [==============================] - 14s 2ms/step - loss: 0.2351 - accuracy: 0.9062\n",
            "Epoch 7/10\n",
            "7500/7500 [==============================] - 14s 2ms/step - loss: 0.2324 - accuracy: 0.9069\n",
            "Epoch 8/10\n",
            "7500/7500 [==============================] - 14s 2ms/step - loss: 0.2287 - accuracy: 0.9094\n",
            "Epoch 9/10\n",
            "7500/7500 [==============================] - 14s 2ms/step - loss: 0.2300 - accuracy: 0.9087\n",
            "Epoch 10/10\n",
            "7500/7500 [==============================] - 14s 2ms/step - loss: 0.2299 - accuracy: 0.9081\n"
          ],
          "name": "stdout"
        },
        {
          "output_type": "execute_result",
          "data": {
            "text/plain": [
              "<tensorflow.python.keras.callbacks.History at 0x7f4c051a8310>"
            ]
          },
          "metadata": {
            "tags": []
          },
          "execution_count": 11
        }
      ]
    },
    {
      "cell_type": "markdown",
      "metadata": {
        "id": "1SPBRaBTzVLp"
      },
      "source": [
        "source:\n",
        "    https://raw.githubusercontent.com/lukas/ml-class/master/videos/one-shot/"
      ]
    }
  ]
}