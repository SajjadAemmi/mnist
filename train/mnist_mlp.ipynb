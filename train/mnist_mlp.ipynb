{
 "cells": [
  {
   "cell_type": "code",
   "execution_count": null,
   "metadata": {
    "colab": {
     "base_uri": "https://localhost:8080/",
     "height": 119
    },
    "colab_type": "code",
    "executionInfo": {
     "elapsed": 14310,
     "status": "ok",
     "timestamp": 1547296182690,
     "user": {
      "displayName": "Sajjad Aemmi",
      "photoUrl": "https://lh4.googleusercontent.com/-b5SaZa5c8Zo/AAAAAAAAAAI/AAAAAAAAAyY/0nc0_XPVTwI/s64/photo.jpg",
      "userId": "15359149817319723494"
     },
     "user_tz": -210
    },
    "id": "VrykdsBPSld-",
    "outputId": "f9e47c6a-de9e-42d6-b885-6635df105302"
   },
   "outputs": [],
   "source": [
    "import pandas as pd\n",
    "import matplotlib.pyplot as plt\n",
    "import numpy as np\n",
    "import random\n",
    "from IPython.display import clear_output\n",
    "\n",
    "#read DataSet and split digits and labels\n",
    "train = pd.read_csv(\"mnist_train.csv\")\n",
    "test = pd.read_csv(\"mnist_test.csv\")\n",
    "\n",
    "print('read csv completed!')\n",
    "\n",
    "Y_train = train['label'].values\n",
    "Y_train = np.eye(10)[Y_train] #one hot\n",
    "Y_train = np.matrix(Y_train)\n",
    "\n",
    "X_train = train.drop('label', axis=1).values\n",
    "X_train = np.matrix(X_train)\n",
    "\n",
    "Y_test = test['label'].values\n",
    "Y_test = np.eye(10)[Y_test] #one hot\n",
    "Y_test = np.matrix(Y_test)\n",
    "\n",
    "X_test = test.drop('label', axis=1).values\n",
    "X_test = np.matrix(X_test)\n",
    "\n",
    "print('Train data size:')\n",
    "print(X_train.shape)\n",
    "print('Test data size:')\n",
    "print(X_test.shape)\n",
    "\n",
    "X_train[X_train < 127] = 0\n",
    "X_train[X_train >= 127] = 1\n",
    "X_test[X_test < 127] = 0\n",
    "X_test[X_test >= 127] = 1\n",
    "\n",
    "print('preprocessing completed!')"
   ]
  },
  {
   "cell_type": "code",
   "execution_count": null,
   "metadata": {
    "colab": {},
    "colab_type": "code",
    "id": "VzzBapGC2S7W"
   },
   "outputs": [],
   "source": [
    "N, D_in = X_train.shape\n",
    "H1 = 65\n",
    "H2 = 15\n",
    "D_out = 10\n",
    "\n",
    "learning_rate = 0.01\n",
    "iteration = 40\n",
    "\n",
    "pre_loss = float(\"inf\")\n",
    "\n",
    "N_test, D_in_test = X_test.shape"
   ]
  },
  {
   "cell_type": "code",
   "execution_count": null,
   "metadata": {
    "colab": {},
    "colab_type": "code",
    "id": "MRv_yfrEnmDb"
   },
   "outputs": [],
   "source": [
    "def test():\n",
    "    truepositive = 0\n",
    "\n",
    "    for n in range(N_test):\n",
    "\n",
    "        x = X_test[n].T\n",
    "        y = Y_test[n].T\n",
    "\n",
    "        net1 = np.matmul(W1, x) + B1\n",
    "        out1 = sigmoid(net1)\n",
    "\n",
    "        net2 = np.matmul(W2, out1) + B2\n",
    "        out2 = sigmoid(net2)\n",
    "\n",
    "        net3 = np.matmul(W3, out2) + B3\n",
    "        out3 = net3\n",
    "        y_hat = out3\n",
    "\n",
    "        if (np.argmax(y_hat) == np.argmax(y)):\n",
    "            truepositive += 1  \n",
    "\n",
    "    acc = truepositive / N_test\n",
    "    return acc"
   ]
  },
  {
   "cell_type": "code",
   "execution_count": null,
   "metadata": {
    "colab": {},
    "colab_type": "code",
    "id": "xcXUS8rall5j"
   },
   "outputs": [],
   "source": [
    "W1 , W2 , W3 = np.random.randn(H1, D_in), np.random.randn(H2, H1), np.random.randn(D_out, H2)\n",
    "B1 , B2 , B3 = np.random.randn(H1, 1) , np.random.randn(H2, 1) , np.random.randn(D_out, 1)"
   ]
  },
  {
   "cell_type": "code",
   "execution_count": null,
   "metadata": {
    "colab": {
     "base_uri": "https://localhost:8080/",
     "height": 612
    },
    "colab_type": "code",
    "executionInfo": {
     "elapsed": 88710,
     "status": "error",
     "timestamp": 1547076578682,
     "user": {
      "displayName": "Sajjad Aemmi",
      "photoUrl": "https://lh4.googleusercontent.com/-b5SaZa5c8Zo/AAAAAAAAAAI/AAAAAAAAAyY/0nc0_XPVTwI/s64/photo.jpg",
      "userId": "15359149817319723494"
     },
     "user_tz": -210
    },
    "id": "J8jLVoOfUn0c",
    "outputId": "4d6bb90d-21b9-4fa7-8340-613a3a94dce5"
   },
   "outputs": [],
   "source": [
    "def sigmoid(x):\n",
    "    return 1 / (1 + np.exp(-x))\n",
    "\n",
    "def softmax(X):\n",
    "    exps = np.exp(X)\n",
    "    return exps / np.sum(exps)\n",
    "  \n",
    "for i in range(iteration):\n",
    "  \n",
    "    Y_hat = np.matrix(np.zeros(Y_train.shape))\n",
    "  \n",
    "    for n in range(N):\n",
    "    \n",
    "        x = X_train[n].T\n",
    "        y = Y_train[n].T\n",
    "\n",
    "        # forward\n",
    "\n",
    "        net1 = np.matmul(W1, x) + B1\n",
    "        out1 = sigmoid(net1)\n",
    "\n",
    "        net2 = np.matmul(W2, out1) + B2\n",
    "        out2 = sigmoid(net2)\n",
    "\n",
    "        net3 = np.matmul(W3, out2) + B3\n",
    "        out3 = net3\n",
    "        y_hat = softmax(out3)\n",
    "\n",
    "        Y_hat[n] = y_hat.T   \n",
    "\n",
    "        # backprop\n",
    "        \n",
    "        grad_y = -2 * (y - y_hat)\n",
    "        grad_B3 = grad_y\n",
    "        grad_W3 = np.matmul(grad_y, out2.T)\n",
    "\n",
    "        grad_out2 = np.matmul(W3.T, grad_y)\n",
    "        grad_net2 = np.multiply(grad_out2, np.multiply(out2, (1-out2)))\n",
    "        grad_B2 = grad_net2\n",
    "        grad_W2 = np.matmul(grad_net2, out1.T)\n",
    "\n",
    "        grad_out1 = np.matmul(W2.T, grad_net2)\n",
    "        grad_net1 = np.multiply(grad_out1, np.multiply(out1, (1-out1)))\n",
    "        grad_B1 = grad_net1\n",
    "        grad_W1 = np.matmul(grad_net1, x.T)\n",
    "\n",
    "        # update\n",
    "\n",
    "        W1 = W1 - learning_rate * grad_W1\n",
    "        W2 = W2 - learning_rate * grad_W2\n",
    "        W3 = W3 - learning_rate * grad_W3\n",
    "\n",
    "        B1 = B1 - learning_rate * grad_B1\n",
    "        B2 = B2 - learning_rate * grad_B2\n",
    "        B3 = B3 - learning_rate * grad_B3\n",
    "    \n",
    "    loss = np.sum(-np.sum(np.multiply(Y_train, np.log10(Y_hat))))\n",
    "    print('i: ' + str(i) + ' loss: ' + str(loss) + ' acc: ' + str(test()) + ' learning_rate: ' + str(learning_rate))\n",
    "\n",
    "    if(loss > pre_loss):\n",
    "        learning_rate *= 0.9\n",
    "    else:\n",
    "        learning_rate *= 1.05\n",
    "    \n",
    "    pre_loss = loss\n",
    "    \n",
    "print('train completed!')"
   ]
  }
 ],
 "metadata": {
  "accelerator": "GPU",
  "colab": {
   "collapsed_sections": [],
   "name": "Mnist - MLP.ipynb",
   "provenance": [],
   "version": "0.3.2"
  },
  "kernelspec": {
   "display_name": "Python 3",
   "language": "python",
   "name": "python3"
  },
  "language_info": {
   "codemirror_mode": {
    "name": "ipython",
    "version": 3
   },
   "file_extension": ".py",
   "mimetype": "text/x-python",
   "name": "python",
   "nbconvert_exporter": "python",
   "pygments_lexer": "ipython3",
   "version": "3.6.7"
  }
 },
 "nbformat": 4,
 "nbformat_minor": 1
}
